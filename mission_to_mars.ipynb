{
 "cells": [
  {
   "cell_type": "markdown",
   "metadata": {},
   "source": [
    "# Mission to Mars\n",
    "## University of Denver Data Analytics Bootcamp - Week 12\n",
    "### Matthew Stewart\n",
    "### May 12, 2019\n",
    "---"
   ]
  },
  {
   "cell_type": "markdown",
   "metadata": {},
   "source": [
    "### Initial Information\n",
    "\n",
    "This jupyter notebook represents the first half of the DU Data Analytics Bootcamp Week 12 homework.  In this notebook, we will scrape various information from the following sites:\n",
    "* [NASA Mars News](https://mars.nasa.gov/news/?page=0&per_page=40&order=publish_date+desc%2Ccreated_at+desc&search=&category=19%2C165%2C184%2C204&blank_scope=Latest)\n",
    "* [JPL Mars Space Images](https://www.jpl.nasa.gov/spaceimages/?search=&category=Mars)\n",
    "* [Mars Weather (Twitter)](https://twitter.com/marswxreport?lang=en)\n",
    "* [Mars Facts](https://space-facts.com/mars/)\n",
    "* [Mars Hemispheres](https://astrogeology.usgs.gov/search/results?q=hemisphere+enhanced&k1=target&v1=Mars)\n",
    "---"
   ]
  },
  {
   "cell_type": "markdown",
   "metadata": {},
   "source": [
    "### Initial Setup"
   ]
  },
  {
   "cell_type": "code",
   "execution_count": 198,
   "metadata": {},
   "outputs": [],
   "source": [
    "# Dependencies\n",
    "from bs4 import BeautifulSoup\n",
    "import requests\n",
    "import pandas as pd\n",
    "from splinter import Browser\n",
    "import time"
   ]
  },
  {
   "cell_type": "markdown",
   "metadata": {},
   "source": [
    "---"
   ]
  },
  {
   "cell_type": "markdown",
   "metadata": {},
   "source": [
    "### NASA Mars News\n",
    "\n",
    "In this section, we will visit the NASA Mars News site and scrape the title and paragraph text from the latest news story."
   ]
  },
  {
   "cell_type": "code",
   "execution_count": 199,
   "metadata": {},
   "outputs": [],
   "source": [
    "# URL\n",
    "mars_news_url = 'https://mars.nasa.gov/news/?page=0&per_page=40&order=publish_date+desc%2Ccreated_at+desc&search=&category=19%2C165%2C184%2C204&blank_scope=Latest'"
   ]
  },
  {
   "cell_type": "code",
   "execution_count": 200,
   "metadata": {},
   "outputs": [],
   "source": [
    "# Make request to URL and create BeautifulSoup object\n",
    "mars_news_response = requests.get(mars_news_url)\n",
    "mars_news_soup = BeautifulSoup(mars_news_response.text, 'html.parser')"
   ]
  },
  {
   "cell_type": "code",
   "execution_count": 201,
   "metadata": {},
   "outputs": [
    {
     "name": "stdout",
     "output_type": "stream",
     "text": [
      "Why This Martian Full Moon Looks Like Candy\n",
      "For the first time, NASA's Mars Odyssey orbiter has caught the Martian moon Phobos during a full moon phase. Each color in this new image represents a temperature range detected by Odyssey's infrared camera.\n"
     ]
    }
   ],
   "source": [
    "# Scrape for title and paragraph text\n",
    "mars_news_latest = mars_news_soup.select('.slide')[0]\n",
    "mars_news_title = mars_news_latest.select('.content_title')[0].text.strip()\n",
    "mars_news_par = mars_news_latest.select('.rollover_description_inner')[0].text.strip()\n",
    "print(mars_news_title)\n",
    "print(mars_news_par)"
   ]
  },
  {
   "cell_type": "markdown",
   "metadata": {},
   "source": [
    "### JPL Mars Space Images\n",
    "\n",
    "In this section, we will visit the JPL Mars Space Images sit and scrape the URL for the latest featured image.  \n",
    "_(Note: we will use Splinter to do so.)_"
   ]
  },
  {
   "cell_type": "code",
   "execution_count": 202,
   "metadata": {},
   "outputs": [],
   "source": [
    "# Splinter setup\n",
    "executable_path = {'executable_path': 'Resources/chromedriver.exe'}\n",
    "browser = Browser('chrome', **executable_path, headless = False)"
   ]
  },
  {
   "cell_type": "code",
   "execution_count": 203,
   "metadata": {},
   "outputs": [],
   "source": [
    "# URL\n",
    "jpl_space_images_url = 'https://www.jpl.nasa.gov/spaceimages/?search=&category=Mars'"
   ]
  },
  {
   "cell_type": "code",
   "execution_count": 204,
   "metadata": {},
   "outputs": [],
   "source": [
    "# Use splinter to visit URL and navigate to \"full image\" page\n",
    "browser.visit(jpl_space_images_url)\n",
    "browser.click_link_by_partial_text('FULL IMAGE')"
   ]
  },
  {
   "cell_type": "code",
   "execution_count": 205,
   "metadata": {},
   "outputs": [],
   "source": [
    "# Further navigation to get to the full-sized image\n",
    "time.sleep(5)\n",
    "browser.click_link_by_partial_text('more info')"
   ]
  },
  {
   "cell_type": "code",
   "execution_count": 206,
   "metadata": {},
   "outputs": [],
   "source": [
    "# Create BeautifulSoup object\n",
    "html = browser.html\n",
    "jpl_soup = BeautifulSoup(html, 'html.parser')"
   ]
  },
  {
   "cell_type": "code",
   "execution_count": 207,
   "metadata": {},
   "outputs": [
    {
     "name": "stdout",
     "output_type": "stream",
     "text": [
      "/spaceimages/images/largesize/PIA17356_hires.jpg\n"
     ]
    }
   ],
   "source": [
    "# Obtain endpoint for featured image URL (relative path)\n",
    "featured_image = jpl_soup.select('img.main_image')[0]\n",
    "featured_image_endpoint = featured_image['src']\n",
    "print(featured_image_endpoint)"
   ]
  },
  {
   "cell_type": "code",
   "execution_count": 208,
   "metadata": {},
   "outputs": [
    {
     "name": "stdout",
     "output_type": "stream",
     "text": [
      "https://www.jpl.nasa.gov/spaceimages/images/largesize/PIA17356_hires.jpg\n"
     ]
    }
   ],
   "source": [
    "# Use slicing to concatentate the final URL\n",
    "featured_image_url = jpl_space_images_url.split('?')[0] + featured_image_endpoint[13:]\n",
    "print(featured_image_url)"
   ]
  },
  {
   "cell_type": "code",
   "execution_count": 209,
   "metadata": {},
   "outputs": [],
   "source": [
    "browser.quit()"
   ]
  },
  {
   "cell_type": "markdown",
   "metadata": {},
   "source": [
    "---"
   ]
  },
  {
   "cell_type": "markdown",
   "metadata": {},
   "source": [
    "### Mars Weather (Twitter)\n",
    "\n",
    "In this section, we will visit the Mars Weather Twitter site and scrape the text of the latest Mars weather tweet."
   ]
  },
  {
   "cell_type": "code",
   "execution_count": 210,
   "metadata": {},
   "outputs": [],
   "source": [
    "# URL\n",
    "mars_weather_url = 'https://twitter.com/marswxreport?lang=en'"
   ]
  },
  {
   "cell_type": "code",
   "execution_count": 211,
   "metadata": {},
   "outputs": [],
   "source": [
    "# Make request to URL and create BeautifulSoup object\n",
    "mars_weather_response = requests.get(mars_weather_url)\n",
    "mars_weather_soup = BeautifulSoup(mars_weather_response.text, 'html.parser')"
   ]
  },
  {
   "cell_type": "code",
   "execution_count": 212,
   "metadata": {},
   "outputs": [
    {
     "name": "stdout",
     "output_type": "stream",
     "text": [
      "InSight sol 162 (2019-05-12) low -100.2ºC (-148.3ºF) high -20.3ºC (-4.5ºF)\n",
      "winds from the SW at 4.5 m/s (10.1 mph) gusting to 14.3 m/s (32.0 mph)\n",
      "pressure at 7.50 hPapic.twitter.com/23uEPf5baF\n"
     ]
    }
   ],
   "source": [
    "# Scrape text\n",
    "mars_weather_tweet = mars_weather_soup.select('li.js-stream-item')[0]\n",
    "mars_weather = mars_weather_tweet.select('.js-tweet-text-container p')[0].text\n",
    "print(mars_weather)"
   ]
  },
  {
   "cell_type": "markdown",
   "metadata": {},
   "source": [
    "---"
   ]
  },
  {
   "cell_type": "markdown",
   "metadata": {},
   "source": [
    "### Mars Facts\n",
    "\n",
    "In this section, we will visit the Mars Facts site and use pandas to scrape the tabular data that includes diameter, mass, etc."
   ]
  },
  {
   "cell_type": "code",
   "execution_count": 213,
   "metadata": {},
   "outputs": [],
   "source": [
    "# URL\n",
    "mars_facts_url = 'https://space-facts.com/mars/'"
   ]
  },
  {
   "cell_type": "code",
   "execution_count": 214,
   "metadata": {},
   "outputs": [],
   "source": [
    "# Scrape tabular data\n",
    "mars_facts_tables = pd.read_html(mars_facts_url)"
   ]
  },
  {
   "cell_type": "code",
   "execution_count": 215,
   "metadata": {},
   "outputs": [
    {
     "data": {
      "text/html": [
       "<div>\n",
       "<style scoped>\n",
       "    .dataframe tbody tr th:only-of-type {\n",
       "        vertical-align: middle;\n",
       "    }\n",
       "\n",
       "    .dataframe tbody tr th {\n",
       "        vertical-align: top;\n",
       "    }\n",
       "\n",
       "    .dataframe thead th {\n",
       "        text-align: right;\n",
       "    }\n",
       "</style>\n",
       "<table border=\"1\" class=\"dataframe\">\n",
       "  <thead>\n",
       "    <tr style=\"text-align: right;\">\n",
       "      <th></th>\n",
       "      <th>Value</th>\n",
       "    </tr>\n",
       "    <tr>\n",
       "      <th>Description</th>\n",
       "      <th></th>\n",
       "    </tr>\n",
       "  </thead>\n",
       "  <tbody>\n",
       "    <tr>\n",
       "      <th>Equatorial Diameter:</th>\n",
       "      <td>6,792 km</td>\n",
       "    </tr>\n",
       "    <tr>\n",
       "      <th>Polar Diameter:</th>\n",
       "      <td>6,752 km</td>\n",
       "    </tr>\n",
       "    <tr>\n",
       "      <th>Mass:</th>\n",
       "      <td>6.42 x 10^23 kg (10.7% Earth)</td>\n",
       "    </tr>\n",
       "    <tr>\n",
       "      <th>Moons:</th>\n",
       "      <td>2 (Phobos &amp; Deimos)</td>\n",
       "    </tr>\n",
       "    <tr>\n",
       "      <th>Orbit Distance:</th>\n",
       "      <td>227,943,824 km (1.52 AU)</td>\n",
       "    </tr>\n",
       "    <tr>\n",
       "      <th>Orbit Period:</th>\n",
       "      <td>687 days (1.9 years)</td>\n",
       "    </tr>\n",
       "    <tr>\n",
       "      <th>Surface Temperature:</th>\n",
       "      <td>-153 to 20 °C</td>\n",
       "    </tr>\n",
       "    <tr>\n",
       "      <th>First Record:</th>\n",
       "      <td>2nd millennium BC</td>\n",
       "    </tr>\n",
       "    <tr>\n",
       "      <th>Recorded By:</th>\n",
       "      <td>Egyptian astronomers</td>\n",
       "    </tr>\n",
       "  </tbody>\n",
       "</table>\n",
       "</div>"
      ],
      "text/plain": [
       "                                              Value\n",
       "Description                                        \n",
       "Equatorial Diameter:                       6,792 km\n",
       "Polar Diameter:                            6,752 km\n",
       "Mass:                 6.42 x 10^23 kg (10.7% Earth)\n",
       "Moons:                          2 (Phobos & Deimos)\n",
       "Orbit Distance:            227,943,824 km (1.52 AU)\n",
       "Orbit Period:                  687 days (1.9 years)\n",
       "Surface Temperature:                  -153 to 20 °C\n",
       "First Record:                     2nd millennium BC\n",
       "Recorded By:                   Egyptian astronomers"
      ]
     },
     "execution_count": 215,
     "metadata": {},
     "output_type": "execute_result"
    }
   ],
   "source": [
    "# Create dataframe from tabular data (note that the above scraping yields only a single table)\n",
    "mars_facts_df = mars_facts_tables[0]\n",
    "mars_facts_df.columns = ['Description', 'Value']\n",
    "mars_facts_df.set_index('Description', inplace = True)\n",
    "mars_facts_df"
   ]
  },
  {
   "cell_type": "code",
   "execution_count": 216,
   "metadata": {},
   "outputs": [],
   "source": [
    "# Export above dataframe to HTML table\n",
    "mars_facts_df.to_html('Resources/mars_table.html')"
   ]
  },
  {
   "cell_type": "code",
   "execution_count": 217,
   "metadata": {},
   "outputs": [
    {
     "data": {
      "text/plain": [
       "{'Equatorial Diameter:': ['6,792 km'],\n",
       " 'Polar Diameter:': ['6,752 km'],\n",
       " 'Mass:': ['6.42 x 10^23 kg (10.7% Earth)'],\n",
       " 'Moons:': ['2 (Phobos & Deimos)'],\n",
       " 'Orbit Distance:': ['227,943,824 km (1.52 AU)'],\n",
       " 'Orbit Period:': ['687 days (1.9 years)'],\n",
       " 'Surface Temperature:': ['-153 to 20 °C'],\n",
       " 'First Record:': ['2nd millennium BC'],\n",
       " 'Recorded By:': ['Egyptian astronomers']}"
      ]
     },
     "execution_count": 217,
     "metadata": {},
     "output_type": "execute_result"
    }
   ],
   "source": [
    "# Convert above dataframe to dictionary for future storage\n",
    "mars_facts_dict = mars_facts_df.T.to_dict('list')\n",
    "mars_facts_dict"
   ]
  },
  {
   "cell_type": "code",
   "execution_count": 218,
   "metadata": {},
   "outputs": [
    {
     "data": {
      "text/plain": [
       "{'Equatorial Diameter:': '6,792 km',\n",
       " 'Polar Diameter:': '6,752 km',\n",
       " 'Mass:': '6.42 x 10^23 kg (10.7% Earth)',\n",
       " 'Moons:': '2 (Phobos & Deimos)',\n",
       " 'Orbit Distance:': '227,943,824 km (1.52 AU)',\n",
       " 'Orbit Period:': '687 days (1.9 years)',\n",
       " 'Surface Temperature:': '-153 to 20 °C',\n",
       " 'First Record:': '2nd millennium BC',\n",
       " 'Recorded By:': 'Egyptian astronomers'}"
      ]
     },
     "execution_count": 218,
     "metadata": {},
     "output_type": "execute_result"
    }
   ],
   "source": [
    "# Iterate through each key/value pair and convert the value from a list to just the element in that list\n",
    "for k, v in mars_facts_dict.items():\n",
    "    mars_facts_dict[k] = v[0]\n",
    "mars_facts_dict"
   ]
  },
  {
   "cell_type": "markdown",
   "metadata": {},
   "source": [
    "---"
   ]
  },
  {
   "cell_type": "markdown",
   "metadata": {},
   "source": [
    "### Mars Hemispheres\n",
    "\n",
    "In this section, we will visit the Mars Hemispheres Enhanced Resolutions site and scrape Title/Image URL information for the four Mars hemispheres:\n",
    "* Cerberus\n",
    "* Schiaparelli\n",
    "* Syrtis Major\n",
    "* Valles Marineris\n",
    "\n",
    "We will use the python requests library to do so, once for each of the four hemispheres."
   ]
  },
  {
   "cell_type": "code",
   "execution_count": 219,
   "metadata": {},
   "outputs": [],
   "source": [
    "# Four URLs\n",
    "mars_hem_cerberus_url = 'https://astrogeology.usgs.gov/search/map/Mars/Viking/cerberus_enhanced'\n",
    "mars_hem_schiaparelli_url = 'https://astrogeology.usgs.gov/search/map/Mars/Viking/schiaparelli_enhanced'\n",
    "mars_hem_syrtis_url = 'https://astrogeology.usgs.gov/search/map/Mars/Viking/syrtis_major_enhanced'\n",
    "mars_hem_valles_url = 'https://astrogeology.usgs.gov/search/map/Mars/Viking/valles_marineris_enhanced'"
   ]
  },
  {
   "cell_type": "code",
   "execution_count": 220,
   "metadata": {},
   "outputs": [],
   "source": [
    "# Four requests\n",
    "mars_hem_cerberus_response = requests.get(mars_hem_cerberus_url)\n",
    "mars_hem_schiaparelli_response = requests.get(mars_hem_schiaparelli_url)\n",
    "mars_hem_syrtis_response = requests.get(mars_hem_syrtis_url)\n",
    "mars_hem_valles_response = requests.get(mars_hem_valles_url)"
   ]
  },
  {
   "cell_type": "code",
   "execution_count": 221,
   "metadata": {},
   "outputs": [],
   "source": [
    "# Four BeautifulSoup objects\n",
    "mars_hem_cerberus_soup = BeautifulSoup(mars_hem_cerberus_response.text, 'html.parser')\n",
    "mars_hem_schiaparelli_soup = BeautifulSoup(mars_hem_schiaparelli_response.text, 'html.parser')\n",
    "mars_hem_syrtis_soup = BeautifulSoup(mars_hem_syrtis_response.text, 'html.parser')\n",
    "mars_hem_valles_soup = BeautifulSoup(mars_hem_valles_response.text, 'html.parser')"
   ]
  },
  {
   "cell_type": "code",
   "execution_count": 222,
   "metadata": {},
   "outputs": [],
   "source": [
    "# Cerberus scraping\n",
    "mars_hem_cerberus_content = mars_hem_cerberus_soup.select('.container')[0]"
   ]
  },
  {
   "cell_type": "code",
   "execution_count": 223,
   "metadata": {},
   "outputs": [
    {
     "name": "stdout",
     "output_type": "stream",
     "text": [
      "Cerberus Hemisphere\n"
     ]
    }
   ],
   "source": [
    "# Cerberus title\n",
    "mars_hem_cerberus_title = mars_hem_cerberus_content.select('.content h2.title')[0].text.strip()[:-9]\n",
    "print(mars_hem_cerberus_title)"
   ]
  },
  {
   "cell_type": "code",
   "execution_count": 224,
   "metadata": {},
   "outputs": [
    {
     "name": "stdout",
     "output_type": "stream",
     "text": [
      "https://astrogeology.usgs.gov/cache/images/cfa62af2557222a02478f1fcd781d445_cerberus_enhanced.tif_full.jpg\n"
     ]
    }
   ],
   "source": [
    "# Cerberus image URL\n",
    "mars_hem_cerberus_image = mars_hem_cerberus_content.select('img.wide-image')[0]['src']\n",
    "mars_hem_cerberus_image_url = mars_hem_cerberus_url[:29] + mars_hem_cerberus_image\n",
    "print(mars_hem_cerberus_image_url)"
   ]
  },
  {
   "cell_type": "code",
   "execution_count": 225,
   "metadata": {},
   "outputs": [],
   "source": [
    "# Schiaparelli scraping\n",
    "mars_hem_schiaparelli_content = mars_hem_schiaparelli_soup.select('.container')[0]"
   ]
  },
  {
   "cell_type": "code",
   "execution_count": 226,
   "metadata": {},
   "outputs": [
    {
     "name": "stdout",
     "output_type": "stream",
     "text": [
      "Schiaparelli Hemisphere\n"
     ]
    }
   ],
   "source": [
    "# Schiaparelli title\n",
    "mars_hem_schiaparelli_title = mars_hem_schiaparelli_content.select('.content h2.title')[0].text.strip()[:-9]\n",
    "print(mars_hem_schiaparelli_title)"
   ]
  },
  {
   "cell_type": "code",
   "execution_count": 227,
   "metadata": {},
   "outputs": [
    {
     "name": "stdout",
     "output_type": "stream",
     "text": [
      "https://astrogeology.usgs.gov/cache/images/3cdd1cbf5e0813bba925c9030d13b62e_schiaparelli_enhanced.tif_full.jpg\n"
     ]
    }
   ],
   "source": [
    "# Schiaparelli image URL\n",
    "mars_hem_schiaparelli_image = mars_hem_schiaparelli_content.select('img.wide-image')[0]['src']\n",
    "mars_hem_schiaparelli_image_url = mars_hem_schiaparelli_url[:29] + mars_hem_schiaparelli_image\n",
    "print(mars_hem_schiaparelli_image_url)"
   ]
  },
  {
   "cell_type": "code",
   "execution_count": 228,
   "metadata": {},
   "outputs": [],
   "source": [
    "# Syrtis Major scraping\n",
    "mars_hem_syrtis_content = mars_hem_syrtis_soup.select('.container')[0]"
   ]
  },
  {
   "cell_type": "code",
   "execution_count": 229,
   "metadata": {},
   "outputs": [
    {
     "name": "stdout",
     "output_type": "stream",
     "text": [
      "Syrtis Major Hemisphere\n"
     ]
    }
   ],
   "source": [
    "# Syrtis Major title\n",
    "mars_hem_syrtis_title = mars_hem_syrtis_content.select('.content h2.title')[0].text.strip()[:-9]\n",
    "print(mars_hem_syrtis_title)"
   ]
  },
  {
   "cell_type": "code",
   "execution_count": 230,
   "metadata": {},
   "outputs": [
    {
     "name": "stdout",
     "output_type": "stream",
     "text": [
      "https://astrogeology.usgs.gov/cache/images/ae209b4e408bb6c3e67b6af38168cf28_syrtis_major_enhanced.tif_full.jpg\n"
     ]
    }
   ],
   "source": [
    "# Syrtis Major image URL\n",
    "mars_hem_syrtis_image = mars_hem_syrtis_content.select('img.wide-image')[0]['src']\n",
    "mars_hem_syrtis_image_url = mars_hem_syrtis_url[:29] + mars_hem_syrtis_image\n",
    "print(mars_hem_syrtis_image_url)"
   ]
  },
  {
   "cell_type": "code",
   "execution_count": 231,
   "metadata": {},
   "outputs": [],
   "source": [
    "# Valles Marineris scraping\n",
    "mars_hem_valles_content = mars_hem_valles_soup.select('.container')[0]"
   ]
  },
  {
   "cell_type": "code",
   "execution_count": 232,
   "metadata": {},
   "outputs": [
    {
     "name": "stdout",
     "output_type": "stream",
     "text": [
      "Valles Marineris Hemisphere\n"
     ]
    }
   ],
   "source": [
    "# Valles Marineris title\n",
    "mars_hem_valles_title = mars_hem_valles_content.select('.content h2.title')[0].text.strip()[:-9]\n",
    "print(mars_hem_valles_title)"
   ]
  },
  {
   "cell_type": "code",
   "execution_count": 233,
   "metadata": {},
   "outputs": [
    {
     "name": "stdout",
     "output_type": "stream",
     "text": [
      "https://astrogeology.usgs.gov/cache/images/7cf2da4bf549ed01c17f206327be4db7_valles_marineris_enhanced.tif_full.jpg\n"
     ]
    }
   ],
   "source": [
    "# Valles Marineris image URL\n",
    "mars_hem_valles_image = mars_hem_valles_content.select('img.wide-image')[0]['src']\n",
    "mars_hem_valles_image_url = mars_hem_valles_url[:29] + mars_hem_valles_image\n",
    "print(mars_hem_valles_image_url)"
   ]
  },
  {
   "cell_type": "code",
   "execution_count": 234,
   "metadata": {},
   "outputs": [],
   "source": [
    "# Create list of dictionaries using above titles and image URLs\n",
    "hemisphere_image_urls = [\n",
    "    {\n",
    "        'title': mars_hem_cerberus_title,\n",
    "        'img_url': mars_hem_cerberus_image_url\n",
    "    },\n",
    "    \n",
    "    {\n",
    "        'title': mars_hem_schiaparelli_title,\n",
    "        'img_url': mars_hem_schiaparelli_image_url\n",
    "    },\n",
    "    \n",
    "    {\n",
    "        'title': mars_hem_syrtis_title,\n",
    "        'img_url': mars_hem_syrtis_image_url\n",
    "    },\n",
    "    \n",
    "    {\n",
    "        'title': mars_hem_valles_title,\n",
    "        'img_url': mars_hem_valles_image_url\n",
    "    }\n",
    "]"
   ]
  },
  {
   "cell_type": "code",
   "execution_count": 235,
   "metadata": {},
   "outputs": [
    {
     "data": {
      "text/plain": [
       "[{'title': 'Cerberus Hemisphere',\n",
       "  'img_url': 'https://astrogeology.usgs.gov/cache/images/cfa62af2557222a02478f1fcd781d445_cerberus_enhanced.tif_full.jpg'},\n",
       " {'title': 'Schiaparelli Hemisphere',\n",
       "  'img_url': 'https://astrogeology.usgs.gov/cache/images/3cdd1cbf5e0813bba925c9030d13b62e_schiaparelli_enhanced.tif_full.jpg'},\n",
       " {'title': 'Syrtis Major Hemisphere',\n",
       "  'img_url': 'https://astrogeology.usgs.gov/cache/images/ae209b4e408bb6c3e67b6af38168cf28_syrtis_major_enhanced.tif_full.jpg'},\n",
       " {'title': 'Valles Marineris Hemisphere',\n",
       "  'img_url': 'https://astrogeology.usgs.gov/cache/images/7cf2da4bf549ed01c17f206327be4db7_valles_marineris_enhanced.tif_full.jpg'}]"
      ]
     },
     "execution_count": 235,
     "metadata": {},
     "output_type": "execute_result"
    }
   ],
   "source": [
    "hemisphere_image_urls"
   ]
  },
  {
   "cell_type": "code",
   "execution_count": null,
   "metadata": {},
   "outputs": [],
   "source": []
  }
 ],
 "metadata": {
  "kernelspec": {
   "display_name": "Python 3",
   "language": "python",
   "name": "python3"
  },
  "language_info": {
   "codemirror_mode": {
    "name": "ipython",
    "version": 3
   },
   "file_extension": ".py",
   "mimetype": "text/x-python",
   "name": "python",
   "nbconvert_exporter": "python",
   "pygments_lexer": "ipython3",
   "version": "3.7.1"
  }
 },
 "nbformat": 4,
 "nbformat_minor": 2
}
